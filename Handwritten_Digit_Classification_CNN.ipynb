{
  "cells": [
    {
      "cell_type": "markdown",
      "metadata": {
        "id": "view-in-github",
        "colab_type": "text"
      },
      "source": [
        "<a href=\"https://colab.research.google.com/github/kerols1234/Handwritten-Digit-Classification-CNN/blob/main/Handwritten_Digit_Classification_CNN.ipynb\" target=\"_parent\"><img src=\"https://colab.research.google.com/assets/colab-badge.svg\" alt=\"Open In Colab\"/></a>"
      ]
    },
    {
      "cell_type": "code",
      "execution_count": 8,
      "metadata": {
        "id": "b-wn1xhyFM2t"
      },
      "outputs": [],
      "source": [
        "import numpy as np  \n",
        "import tensorflow_datasets as tfds\n",
        "from tensorflow import keras\n",
        "from sklearn.model_selection import train_test_split"
      ]
    },
    {
      "cell_type": "code",
      "execution_count": 9,
      "metadata": {
        "id": "7-8tKSt4FSZo"
      },
      "outputs": [],
      "source": [
        "ds_train = tfds.load(name=\"MNIST\", split=\"train\")\n",
        "ds_test = tfds.load(name=\"MNIST\", split=\"test\")"
      ]
    },
    {
      "cell_type": "code",
      "execution_count": 4,
      "metadata": {
        "id": "-uieTec9FYOo"
      },
      "outputs": [],
      "source": [
        "train_images = np.array([image['image'].numpy()[:, :, 0] for image in ds_train])\n",
        "train_labels = np.array([image['label'].numpy() for image in ds_train])\n",
        "\n",
        "test_images = np.array([image['image'].numpy()[:, :, 0] for image in ds_test])\n",
        "test_labels = np.array([image['label'].numpy() for image in ds_test])"
      ]
    },
    {
      "cell_type": "code",
      "execution_count": 5,
      "metadata": {
        "id": "FctrlVRUFb0g"
      },
      "outputs": [],
      "source": [
        "train_images = train_images.reshape(60000, 28, 28, 1)\n",
        "test_images = test_images.reshape(10000, 28, 28, 1)\n",
        "  \n",
        "train_images = train_images.astype('float32')\n",
        "test_images = test_images.astype('float32')\n",
        "  \n",
        "train_images /= 255\n",
        "test_images /= 255"
      ]
    },
    {
      "cell_type": "code",
      "source": [
        "def generateModel(model):\n",
        "  n_folds=4\n",
        "  mse = 0\n",
        "\n",
        "  for i in range(n_folds):\n",
        "    print(\"Training on Fold: \",i+1)\n",
        "    t_x, val_x, t_y, val_y = train_test_split(train_images, train_labels, test_size=0.25, \n",
        "                                                random_state = np.random.randint(1,1000, 1)[0])\n",
        "    model.fit(t_x, t_y, batch_size=32, epochs=3)\n",
        "    loss, acc = model.evaluate(val_x, val_y, batch_size=1)\n",
        "    mse += (acc * 100)\n",
        "\n",
        "  mse /= 4\n",
        "  return mse, model\n"
      ],
      "metadata": {
        "id": "I6ECPPD4Pk60"
      },
      "execution_count": 22,
      "outputs": []
    },
    {
      "cell_type": "code",
      "execution_count": 23,
      "metadata": {
        "id": "Qliy61n3Fewx",
        "colab": {
          "base_uri": "https://localhost:8080/"
        },
        "outputId": "849070c1-64b4-4932-b4ba-0bef19e073b9"
      },
      "outputs": [
        {
          "output_type": "stream",
          "name": "stdout",
          "text": [
            "Training on Fold:  1\n",
            "Epoch 1/3\n",
            "1407/1407 [==============================] - 11s 7ms/step - loss: 0.2274 - accuracy: 0.9295\n",
            "Epoch 2/3\n",
            "1407/1407 [==============================] - 10s 7ms/step - loss: 0.0773 - accuracy: 0.9759\n",
            "Epoch 3/3\n",
            "1407/1407 [==============================] - 10s 7ms/step - loss: 0.0531 - accuracy: 0.9830\n",
            "15000/15000 [==============================] - 45s 3ms/step - loss: 0.0578 - accuracy: 0.9825\n",
            "Training on Fold:  2\n",
            "Epoch 1/3\n",
            "1407/1407 [==============================] - 11s 8ms/step - loss: 0.0460 - accuracy: 0.9854\n",
            "Epoch 2/3\n",
            "1407/1407 [==============================] - 11s 7ms/step - loss: 0.0340 - accuracy: 0.9894\n",
            "Epoch 3/3\n",
            "1407/1407 [==============================] - 11s 7ms/step - loss: 0.0282 - accuracy: 0.9907\n",
            "15000/15000 [==============================] - 46s 3ms/step - loss: 0.0459 - accuracy: 0.9873\n",
            "Training on Fold:  3\n",
            "Epoch 1/3\n",
            "1407/1407 [==============================] - 10s 7ms/step - loss: 0.0277 - accuracy: 0.9918\n",
            "Epoch 2/3\n",
            "1407/1407 [==============================] - 10s 7ms/step - loss: 0.0198 - accuracy: 0.9938\n",
            "Epoch 3/3\n",
            "1407/1407 [==============================] - 10s 7ms/step - loss: 0.0175 - accuracy: 0.9943\n",
            "15000/15000 [==============================] - 45s 3ms/step - loss: 0.0282 - accuracy: 0.9914\n",
            "Training on Fold:  4\n",
            "Epoch 1/3\n",
            "1407/1407 [==============================] - 11s 8ms/step - loss: 0.0200 - accuracy: 0.9936\n",
            "Epoch 2/3\n",
            "1407/1407 [==============================] - 11s 8ms/step - loss: 0.0133 - accuracy: 0.9960\n",
            "Epoch 3/3\n",
            "1407/1407 [==============================] - 11s 8ms/step - loss: 0.0112 - accuracy: 0.9967\n",
            "15000/15000 [==============================] - 45s 3ms/step - loss: 0.0321 - accuracy: 0.9887\n"
          ]
        }
      ],
      "source": [
        "# first architecture\n",
        "model = keras.Sequential()\n",
        "\n",
        "model.add(keras.layers.Conv2D(64, 3, activation='relu', input_shape=(28, 28, 1)))\n",
        "model.add(keras.layers.MaxPool2D(pool_size=(2,2)))\n",
        "model.add(keras.layers.Conv2D(64, 3, activation='relu'))\n",
        "model.add(keras.layers.MaxPool2D(pool_size=(2,2)))\n",
        "model.add(keras.layers.Conv2D(64, 3, activation='relu'))\n",
        "model.add(keras.layers.MaxPool2D(pool_size=(2,2)))\n",
        "model.add(keras.layers.Flatten())\n",
        "model.add(keras.layers.Dense(10, activation='softmax'))\n",
        "\n",
        "model.compile(optimizer='adam',\n",
        "              loss=keras.losses.SparseCategoricalCrossentropy(),\n",
        "              metrics=['accuracy'])\n",
        "mse, model = generateModel(model) "
      ]
    },
    {
      "cell_type": "code",
      "execution_count": 24,
      "metadata": {
        "id": "oC-akobzFkor",
        "colab": {
          "base_uri": "https://localhost:8080/"
        },
        "outputId": "8876e27b-e4fc-420d-98cb-d29dc9a5b433"
      },
      "outputs": [
        {
          "output_type": "stream",
          "name": "stdout",
          "text": [
            "98.7500011920929\n",
            "10000/10000 [==============================] - 30s 3ms/step - loss: 0.0580 - accuracy: 0.9853\n",
            "313/313 [==============================] - 2s 5ms/step - loss: 0.0580 - accuracy: 0.9853\n"
          ]
        },
        {
          "output_type": "execute_result",
          "data": {
            "text/plain": [
              "[0.05801231041550636, 0.9853000044822693]"
            ]
          },
          "metadata": {},
          "execution_count": 24
        }
      ],
      "source": [
        "print(\"mean square error: \",mse)\n",
        "model.evaluate(test_images, test_labels, batch_size=1)"
      ]
    },
    {
      "cell_type": "code",
      "source": [
        "# second architecture\n",
        "model = keras.Sequential()\n",
        "\n",
        "model.add(keras.layers.Conv2D(64, 3, activation='relu', input_shape=(28, 28, 1)))\n",
        "model.add(keras.layers.MaxPool2D(pool_size=(2,2)))\n",
        "model.add(keras.layers.Conv2D(32, 3, activation='relu'))\n",
        "model.add(keras.layers.MaxPool2D(pool_size=(2,2)))\n",
        "model.add(keras.layers.Flatten())\n",
        "model.add(keras.layers.Dense(10, activation='softmax'))\n",
        "\n",
        "model.compile(optimizer='adam',\n",
        "              loss=keras.losses.SparseCategoricalCrossentropy(),\n",
        "              metrics=['accuracy'])\n",
        "\n",
        "mse, model = generateModel(model) "
      ],
      "metadata": {
        "colab": {
          "base_uri": "https://localhost:8080/"
        },
        "id": "zzP5e5t75zjq",
        "outputId": "aa78ca9a-50dd-412c-d44f-4772dc350ef8"
      },
      "execution_count": 25,
      "outputs": [
        {
          "output_type": "stream",
          "name": "stdout",
          "text": [
            "Training on Fold:  1\n",
            "Epoch 1/3\n",
            "1407/1407 [==============================] - 9s 6ms/step - loss: 0.2029 - accuracy: 0.9384\n",
            "Epoch 2/3\n",
            "1407/1407 [==============================] - 8s 6ms/step - loss: 0.0641 - accuracy: 0.9803\n",
            "Epoch 3/3\n",
            "1407/1407 [==============================] - 8s 6ms/step - loss: 0.0488 - accuracy: 0.9852\n",
            "15000/15000 [==============================] - 43s 3ms/step - loss: 0.0500 - accuracy: 0.9838\n",
            "Training on Fold:  2\n",
            "Epoch 1/3\n",
            "1407/1407 [==============================] - 8s 6ms/step - loss: 0.0428 - accuracy: 0.9870\n",
            "Epoch 2/3\n",
            "1407/1407 [==============================] - 8s 6ms/step - loss: 0.0340 - accuracy: 0.9898\n",
            "Epoch 3/3\n",
            "1407/1407 [==============================] - 8s 6ms/step - loss: 0.0270 - accuracy: 0.9915\n",
            "15000/15000 [==============================] - 42s 3ms/step - loss: 0.0378 - accuracy: 0.9895\n",
            "Training on Fold:  3\n",
            "Epoch 1/3\n",
            "1407/1407 [==============================] - 8s 6ms/step - loss: 0.0267 - accuracy: 0.9918\n",
            "Epoch 2/3\n",
            "1407/1407 [==============================] - 8s 6ms/step - loss: 0.0214 - accuracy: 0.9930\n",
            "Epoch 3/3\n",
            "1407/1407 [==============================] - 8s 6ms/step - loss: 0.0173 - accuracy: 0.9943\n",
            "15000/15000 [==============================] - 42s 3ms/step - loss: 0.0319 - accuracy: 0.9897\n",
            "Training on Fold:  4\n",
            "Epoch 1/3\n",
            "1407/1407 [==============================] - 8s 6ms/step - loss: 0.0192 - accuracy: 0.9938\n",
            "Epoch 2/3\n",
            "1407/1407 [==============================] - 8s 6ms/step - loss: 0.0134 - accuracy: 0.9958\n",
            "Epoch 3/3\n",
            "1407/1407 [==============================] - 8s 6ms/step - loss: 0.0111 - accuracy: 0.9965\n",
            "15000/15000 [==============================] - 44s 3ms/step - loss: 0.0215 - accuracy: 0.9935\n"
          ]
        }
      ]
    },
    {
      "cell_type": "code",
      "source": [
        "print(\"mean square error: \",mse)\n",
        "model.evaluate(test_images, test_labels, batch_size=1)"
      ],
      "metadata": {
        "colab": {
          "base_uri": "https://localhost:8080/"
        },
        "id": "PDJp_i2O6Gko",
        "outputId": "768f6438-10e2-4937-b9a3-726341f41a14"
      },
      "execution_count": 26,
      "outputs": [
        {
          "output_type": "stream",
          "name": "stdout",
          "text": [
            "mean square error:  98.9099994301796\n",
            "10000/10000 [==============================] - 28s 3ms/step - loss: 0.0425 - accuracy: 0.9892\n",
            "313/313 [==============================] - 2s 5ms/step - loss: 0.0425 - accuracy: 0.9892\n"
          ]
        },
        {
          "output_type": "execute_result",
          "data": {
            "text/plain": [
              "[0.042478617280721664, 0.9891999959945679]"
            ]
          },
          "metadata": {},
          "execution_count": 26
        }
      ]
    },
    {
      "cell_type": "code",
      "source": [
        "# third architecture\n",
        "model = keras.Sequential()\n",
        "\n",
        "model.add(keras.layers.Conv2D(32, 3, activation='relu', input_shape=(28, 28, 1)))\n",
        "model.add(keras.layers.AveragePooling2D(pool_size=(2,2)))\n",
        "model.add(keras.layers.Conv2D(32, 3, activation='relu'))\n",
        "model.add(keras.layers.AveragePooling2D(pool_size=(2,2)))\n",
        "model.add(keras.layers.Flatten())\n",
        "model.add(keras.layers.Dense(10, activation='softmax'))\n",
        "\n",
        "model.compile(optimizer='adam',\n",
        "              loss=keras.losses.SparseCategoricalCrossentropy(),\n",
        "              metrics=['accuracy'])\n",
        "\n",
        "mse, model = generateModel(model) "
      ],
      "metadata": {
        "id": "xaUkBNfc6Jc1"
      },
      "execution_count": null,
      "outputs": []
    },
    {
      "cell_type": "code",
      "source": [
        "print(\"mean square error: \",mse)\n",
        "model.evaluate(test_images, test_labels, batch_size=1)"
      ],
      "metadata": {
        "colab": {
          "base_uri": "https://localhost:8080/"
        },
        "id": "27bYGXyV6coU",
        "outputId": "e8768d56-4cbd-4e96-ec2e-ffcb12a14dc9"
      },
      "execution_count": 28,
      "outputs": [
        {
          "output_type": "stream",
          "name": "stdout",
          "text": [
            "mean square error:  96.23166620731354\n",
            "10000/10000 [==============================] - 31s 3ms/step - loss: 0.0795 - accuracy: 0.9770\n",
            "313/313 [==============================] - 1s 4ms/step - loss: 0.0795 - accuracy: 0.9770\n"
          ]
        },
        {
          "output_type": "execute_result",
          "data": {
            "text/plain": [
              "[0.07945872843265533, 0.9769999980926514]"
            ]
          },
          "metadata": {},
          "execution_count": 28
        }
      ]
    },
    {
      "cell_type": "code",
      "source": [
        "# fourth architecture\n",
        "model = keras.Sequential()\n",
        "\n",
        "model.add(keras.layers.Conv2D(128, 3, activation='relu', input_shape=(28, 28, 1)))\n",
        "model.add(keras.layers.MaxPool2D(pool_size=(2,2)))\n",
        "model.add(keras.layers.Flatten())\n",
        "model.add(keras.layers.Dense(10, activation='softmax'))\n",
        "\n",
        "model.compile(optimizer='adam',\n",
        "              loss=keras.losses.SparseCategoricalCrossentropy(),\n",
        "              metrics=['accuracy'])\n",
        "\n",
        "mse, model = generateModel(model) "
      ],
      "metadata": {
        "colab": {
          "base_uri": "https://localhost:8080/"
        },
        "id": "_EcZO-Yo6ecU",
        "outputId": "8ab1452b-f5b3-4f01-9e99-684368960947"
      },
      "execution_count": 20,
      "outputs": [
        {
          "output_type": "stream",
          "name": "stdout",
          "text": [
            "Epoch 1/3\n",
            "1407/1407 [==============================] - 9s 6ms/step - loss: 0.1798 - accuracy: 0.9468\n",
            "Epoch 2/3\n",
            "1407/1407 [==============================] - 9s 6ms/step - loss: 0.0686 - accuracy: 0.9795\n",
            "Epoch 3/3\n",
            "1407/1407 [==============================] - 9s 6ms/step - loss: 0.0505 - accuracy: 0.9842\n",
            "15000/15000 [==============================] - 41s 3ms/step - loss: 0.0646 - accuracy: 0.9819\n",
            "Epoch 1/3\n",
            "1407/1407 [==============================] - 9s 6ms/step - loss: 0.0451 - accuracy: 0.9859\n",
            "Epoch 2/3\n",
            "1407/1407 [==============================] - 9s 6ms/step - loss: 0.0333 - accuracy: 0.9901\n",
            "Epoch 3/3\n",
            "1407/1407 [==============================] - 9s 6ms/step - loss: 0.0249 - accuracy: 0.9923\n",
            "15000/15000 [==============================] - 40s 3ms/step - loss: 0.0516 - accuracy: 0.9839\n",
            "Epoch 1/3\n",
            "1407/1407 [==============================] - 9s 6ms/step - loss: 0.0279 - accuracy: 0.9914\n",
            "Epoch 2/3\n",
            "1407/1407 [==============================] - 9s 6ms/step - loss: 0.0186 - accuracy: 0.9943\n",
            "Epoch 3/3\n",
            "1407/1407 [==============================] - 9s 6ms/step - loss: 0.0136 - accuracy: 0.9958\n",
            "15000/15000 [==============================] - 40s 3ms/step - loss: 0.0364 - accuracy: 0.9893\n",
            "Epoch 1/3\n",
            "1407/1407 [==============================] - 9s 6ms/step - loss: 0.0173 - accuracy: 0.9950\n",
            "Epoch 2/3\n",
            "1407/1407 [==============================] - 9s 6ms/step - loss: 0.0102 - accuracy: 0.9972\n",
            "Epoch 3/3\n",
            "1407/1407 [==============================] - 9s 6ms/step - loss: 0.0072 - accuracy: 0.9982\n",
            "15000/15000 [==============================] - 40s 3ms/step - loss: 0.0207 - accuracy: 0.9937\n"
          ]
        }
      ]
    },
    {
      "cell_type": "code",
      "source": [
        "print(\"mean square error: \",mse)\n",
        "model.evaluate(test_images, test_labels, batch_size=1)"
      ],
      "metadata": {
        "colab": {
          "base_uri": "https://localhost:8080/"
        },
        "id": "Hsdq_hTm6fjU",
        "outputId": "ecca1ebf-3010-4f5d-8233-aaf066347333"
      },
      "execution_count": 21,
      "outputs": [
        {
          "output_type": "stream",
          "name": "stdout",
          "text": [
            "98.72000068426132\n",
            "10000/10000 [==============================] - 27s 3ms/step - loss: 0.0567 - accuracy: 0.9856\n"
          ]
        },
        {
          "output_type": "execute_result",
          "data": {
            "text/plain": [
              "[0.05673903226852417, 0.9855999946594238]"
            ]
          },
          "metadata": {},
          "execution_count": 21
        }
      ]
    }
  ],
  "metadata": {
    "colab": {
      "collapsed_sections": [],
      "name": "Handwritten-Digit-Classification-CNN.ipynb",
      "provenance": [],
      "authorship_tag": "ABX9TyNK76sEmpaeHYTotSjAsl5l",
      "include_colab_link": true
    },
    "kernelspec": {
      "display_name": "Python 3",
      "name": "python3"
    },
    "language_info": {
      "name": "python"
    },
    "accelerator": "GPU"
  },
  "nbformat": 4,
  "nbformat_minor": 0
}