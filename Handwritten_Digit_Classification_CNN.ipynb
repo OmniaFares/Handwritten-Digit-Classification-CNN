{
  "cells": [
    {
      "cell_type": "markdown",
      "metadata": {
        "id": "view-in-github",
        "colab_type": "text"
      },
      "source": [
        "<a href=\"https://colab.research.google.com/github/kerols1234/Handwritten-Digit-Classification-CNN/blob/main/Handwritten_Digit_Classification_CNN.ipynb\" target=\"_parent\"><img src=\"https://colab.research.google.com/assets/colab-badge.svg\" alt=\"Open In Colab\"/></a>"
      ]
    },
    {
      "cell_type": "code",
      "execution_count": null,
      "metadata": {
        "id": "b-wn1xhyFM2t"
      },
      "outputs": [],
      "source": [
        "import numpy as np  \n",
        "import tensorflow_datasets as tfds\n",
        "from tensorflow import keras\n",
        "# import sklearn.cross_validation as cross_validation \n",
        "# from sklearn.cross_validation import train_test_split"
      ]
    },
    {
      "cell_type": "code",
      "source": [
        "!pip install sklearn.cross_validation"
      ],
      "metadata": {
        "id": "ql4yEAEMRYnq"
      },
      "execution_count": null,
      "outputs": []
    },
    {
      "cell_type": "code",
      "execution_count": null,
      "metadata": {
        "id": "7-8tKSt4FSZo"
      },
      "outputs": [],
      "source": [
        "ds_train = tfds.load(name=\"MNIST\", split=\"train\")\n",
        "ds_test = tfds.load(name=\"MNIST\", split=\"test\")"
      ]
    },
    {
      "cell_type": "code",
      "execution_count": null,
      "metadata": {
        "colab": {
          "base_uri": "https://localhost:8080/"
        },
        "id": "-uieTec9FYOo",
        "outputId": "fcab8a2a-c30f-4db9-bd45-6da2f3bfbcad"
      },
      "outputs": [
        {
          "output_type": "stream",
          "name": "stdout",
          "text": [
            "(60000, 28, 28)\n"
          ]
        }
      ],
      "source": [
        "train_images = np.array([image['image'].numpy()[:, :, 0] for image in ds_train])\n",
        "train_labels = np.array([image['label'].numpy() for image in ds_train])\n",
        "\n",
        "test_images = np.array([image['image'].numpy()[:, :, 0] for image in ds_test])\n",
        "test_labels = np.array([image['label'].numpy() for image in ds_test])"
      ]
    },
    {
      "cell_type": "code",
      "execution_count": null,
      "metadata": {
        "id": "FctrlVRUFb0g"
      },
      "outputs": [],
      "source": [
        "train_images = train_images.reshape(60000, 28, 28, 1)\n",
        "test_images = test_images.reshape(10000, 28, 28, 1)\n",
        "  \n",
        "train_images = train_images.astype('float32')\n",
        "test_images = test_images.astype('float32')\n",
        "  \n",
        "train_images /= 255\n",
        "test_images /= 255"
      ]
    },
    {
      "cell_type": "code",
      "execution_count": null,
      "metadata": {
        "id": "Qliy61n3Fewx",
        "colab": {
          "base_uri": "https://localhost:8080/"
        },
        "outputId": "a795b054-b6f8-4c92-a59e-e1685b6b37ef"
      },
      "outputs": [
        {
          "output_type": "stream",
          "name": "stdout",
          "text": [
            "Epoch 1/5\n",
            "42000/42000 [==============================] - 243s 6ms/step - loss: 0.1667 - accuracy: 0.9491 - val_loss: 0.0824 - val_accuracy: 0.9749\n",
            "Epoch 2/5\n",
            "42000/42000 [==============================] - 248s 6ms/step - loss: 0.0811 - accuracy: 0.9758 - val_loss: 0.0930 - val_accuracy: 0.9737\n",
            "Epoch 3/5\n",
            "42000/42000 [==============================] - 244s 6ms/step - loss: 0.0658 - accuracy: 0.9814 - val_loss: 0.0808 - val_accuracy: 0.9788\n",
            "Epoch 4/5\n",
            "42000/42000 [==============================] - 242s 6ms/step - loss: 0.0555 - accuracy: 0.9833 - val_loss: 0.0890 - val_accuracy: 0.9758\n",
            "Epoch 5/5\n",
            "42000/42000 [==============================] - 244s 6ms/step - loss: 0.0488 - accuracy: 0.9859 - val_loss: 0.0778 - val_accuracy: 0.9793\n"
          ]
        },
        {
          "output_type": "execute_result",
          "data": {
            "text/plain": [
              "<keras.callbacks.History at 0x7f45f6633350>"
            ]
          },
          "metadata": {},
          "execution_count": 35
        }
      ],
      "source": [
        "# first architecture\n",
        "model = keras.Sequential()\n",
        "\n",
        "model.add(keras.layers.Conv2D(64, 3, activation='relu', input_shape=(28, 28, 1)))\n",
        "model.add(keras.layers.MaxPool2D(pool_size=(2,2)))\n",
        "model.add(keras.layers.Conv2D(64, 3, activation='relu'))\n",
        "model.add(keras.layers.MaxPool2D(pool_size=(2,2)))\n",
        "model.add(keras.layers.Conv2D(64, 3, activation='relu'))\n",
        "model.add(keras.layers.MaxPool2D(pool_size=(2,2)))\n",
        "model.add(keras.layers.Flatten())\n",
        "model.add(keras.layers.Dense(10, activation='softmax'))\n",
        "\n",
        "model.compile(optimizer='adam',\n",
        "              loss=keras.losses.SparseCategoricalCrossentropy(),\n",
        "              metrics=['accuracy'])\n",
        "\n",
        "model.fit(train_images, train_labels, batch_size=1, epochs=5, validation_split=0.3 )"
      ]
    },
    {
      "cell_type": "code",
      "execution_count": null,
      "metadata": {
        "id": "oC-akobzFkor",
        "colab": {
          "base_uri": "https://localhost:8080/"
        },
        "outputId": "80d94178-612d-414a-df63-6d0984bb7624"
      },
      "outputs": [
        {
          "output_type": "stream",
          "name": "stdout",
          "text": [
            "10000/10000 [==============================] - 19s 2ms/step - loss: 0.0775 - accuracy: 0.9789\n"
          ]
        },
        {
          "output_type": "execute_result",
          "data": {
            "text/plain": [
              "[0.07752381265163422, 0.9789000153541565]"
            ]
          },
          "metadata": {},
          "execution_count": 36
        }
      ],
      "source": [
        "model.evaluate(test_images, test_labels, batch_size=1)"
      ]
    },
    {
      "cell_type": "code",
      "source": [
        "# second architecture\n",
        "model = keras.Sequential()\n",
        "\n",
        "model.add(keras.layers.Conv2D(64, 3, activation='relu', input_shape=(28, 28, 1)))\n",
        "model.add(keras.layers.MaxPool2D(pool_size=(2,2)))\n",
        "model.add(keras.layers.Conv2D(32, 3, activation='relu'))\n",
        "model.add(keras.layers.MaxPool2D(pool_size=(2,2)))\n",
        "model.add(keras.layers.Flatten())\n",
        "model.add(keras.layers.Dense(10, activation='softmax'))\n",
        "\n",
        "model.compile(optimizer='adam',\n",
        "              loss=keras.losses.SparseCategoricalCrossentropy(),\n",
        "              metrics=['accuracy'])\n",
        "\n",
        "model.fit(train_images, train_labels, batch_size=1, epochs=5, validation_split=0.3 )"
      ],
      "metadata": {
        "colab": {
          "base_uri": "https://localhost:8080/"
        },
        "id": "zzP5e5t75zjq",
        "outputId": "4a65345d-30d5-4b66-e40b-0435e1bec9b7"
      },
      "execution_count": null,
      "outputs": [
        {
          "output_type": "stream",
          "name": "stdout",
          "text": [
            "Epoch 1/5\n",
            "42000/42000 [==============================] - 312s 7ms/step - loss: 0.1195 - accuracy: 0.9625 - val_loss: 0.0789 - val_accuracy: 0.9747\n",
            "Epoch 2/5\n",
            "42000/42000 [==============================] - 194s 5ms/step - loss: 0.0557 - accuracy: 0.9836 - val_loss: 0.0523 - val_accuracy: 0.9852\n",
            "Epoch 3/5\n",
            "42000/42000 [==============================] - 179s 4ms/step - loss: 0.0452 - accuracy: 0.9866 - val_loss: 0.0516 - val_accuracy: 0.9852\n",
            "Epoch 4/5\n",
            "42000/42000 [==============================] - 192s 5ms/step - loss: 0.0381 - accuracy: 0.9884 - val_loss: 0.0515 - val_accuracy: 0.9846\n",
            "Epoch 5/5\n",
            "42000/42000 [==============================] - 194s 5ms/step - loss: 0.0342 - accuracy: 0.9900 - val_loss: 0.0570 - val_accuracy: 0.9832\n"
          ]
        },
        {
          "output_type": "execute_result",
          "data": {
            "text/plain": [
              "<keras.callbacks.History at 0x7f45f4bfb7d0>"
            ]
          },
          "metadata": {},
          "execution_count": 33
        }
      ]
    },
    {
      "cell_type": "code",
      "source": [
        "model.evaluate(test_images, test_labels, batch_size=1)"
      ],
      "metadata": {
        "colab": {
          "base_uri": "https://localhost:8080/"
        },
        "id": "PDJp_i2O6Gko",
        "outputId": "ca5f81b0-d38b-4b8f-acd5-c1b640934d59"
      },
      "execution_count": null,
      "outputs": [
        {
          "output_type": "stream",
          "name": "stdout",
          "text": [
            "10000/10000 [==============================] - 17s 2ms/step - loss: 0.0535 - accuracy: 0.9830\n"
          ]
        },
        {
          "output_type": "execute_result",
          "data": {
            "text/plain": [
              "[0.0535062737762928, 0.9829999804496765]"
            ]
          },
          "metadata": {},
          "execution_count": 34
        }
      ]
    },
    {
      "cell_type": "code",
      "source": [
        "# third architecture\n",
        "model = keras.Sequential()\n",
        "\n",
        "model.add(keras.layers.Conv2D(16, 3, activation='relu', input_shape=(28, 28, 1)))\n",
        "model.add(keras.layers.AveragePooling2D(pool_size=(2,2)))\n",
        "model.add(keras.layers.Conv2D(16, 3, activation='relu'))\n",
        "model.add(keras.layers.AveragePooling2D(pool_size=(2,2)))\n",
        "model.add(keras.layers.Conv2D(16, 3, activation='relu'))\n",
        "model.add(keras.layers.AveragePooling2D(pool_size=(2,2)))\n",
        "model.add(keras.layers.Flatten())\n",
        "model.add(keras.layers.Dense(10, activation='softmax'))\n",
        "\n",
        "model.compile(optimizer='adam',\n",
        "              loss=keras.losses.SparseCategoricalCrossentropy(),\n",
        "              metrics=['accuracy'])\n",
        "\n",
        "model.fit(train_images, train_labels, batch_size=1, epochs=5, validation_split=0.3 )"
      ],
      "metadata": {
        "colab": {
          "base_uri": "https://localhost:8080/"
        },
        "id": "xaUkBNfc6Jc1",
        "outputId": "05f927e9-ec51-412c-f9b3-1258ef6b090c"
      },
      "execution_count": null,
      "outputs": [
        {
          "output_type": "stream",
          "name": "stdout",
          "text": [
            "Epoch 1/5\n",
            "42000/42000 [==============================] - 121s 3ms/step - loss: 0.2904 - accuracy: 0.9101 - val_loss: 0.1537 - val_accuracy: 0.9531\n",
            "Epoch 2/5\n",
            "42000/42000 [==============================] - 123s 3ms/step - loss: 0.1257 - accuracy: 0.9618 - val_loss: 0.1033 - val_accuracy: 0.9686\n",
            "Epoch 3/5\n",
            "42000/42000 [==============================] - 123s 3ms/step - loss: 0.0946 - accuracy: 0.9721 - val_loss: 0.0875 - val_accuracy: 0.9736\n",
            "Epoch 4/5\n",
            "42000/42000 [==============================] - 123s 3ms/step - loss: 0.0830 - accuracy: 0.9739 - val_loss: 0.0859 - val_accuracy: 0.9750\n",
            "Epoch 5/5\n",
            "42000/42000 [==============================] - 123s 3ms/step - loss: 0.0739 - accuracy: 0.9775 - val_loss: 0.0792 - val_accuracy: 0.9763\n"
          ]
        },
        {
          "output_type": "execute_result",
          "data": {
            "text/plain": [
              "<keras.callbacks.History at 0x7f45f73a0890>"
            ]
          },
          "metadata": {},
          "execution_count": 27
        }
      ]
    },
    {
      "cell_type": "code",
      "source": [
        "model.evaluate(test_images, test_labels, batch_size=1)"
      ],
      "metadata": {
        "colab": {
          "base_uri": "https://localhost:8080/"
        },
        "id": "27bYGXyV6coU",
        "outputId": "4e2684ea-1988-4842-d0b0-7ff32b9d7010"
      },
      "execution_count": null,
      "outputs": [
        {
          "output_type": "stream",
          "name": "stdout",
          "text": [
            "10000/10000 [==============================] - 14s 1ms/step - loss: 0.0717 - accuracy: 0.9785\n"
          ]
        },
        {
          "output_type": "execute_result",
          "data": {
            "text/plain": [
              "[0.07171869277954102, 0.9785000085830688]"
            ]
          },
          "metadata": {},
          "execution_count": 29
        }
      ]
    },
    {
      "cell_type": "code",
      "source": [
        "# fourth architecture\n",
        "model = keras.Sequential()\n",
        "\n",
        "model.add(keras.layers.Conv2D(128, 3, activation='relu', input_shape=(28, 28, 1)))\n",
        "model.add(keras.layers.MaxPool2D(pool_size=(2,2)))\n",
        "model.add(keras.layers.Flatten())\n",
        "model.add(keras.layers.Dense(10, activation='softmax'))\n",
        "\n",
        "model.compile(optimizer='adam',\n",
        "              loss=keras.losses.SparseCategoricalCrossentropy(),\n",
        "              metrics=['accuracy'])\n",
        "\n",
        "model.fit(train_images, train_labels, batch_size=1, epochs=5, validation_split=0.3 )"
      ],
      "metadata": {
        "colab": {
          "base_uri": "https://localhost:8080/"
        },
        "id": "_EcZO-Yo6ecU",
        "outputId": "de0d9bd3-cc77-486b-fed1-89529b089542"
      },
      "execution_count": null,
      "outputs": [
        {
          "output_type": "stream",
          "name": "stdout",
          "text": [
            "Epoch 1/5\n",
            "42000/42000 [==============================] - 188s 4ms/step - loss: 0.1296 - accuracy: 0.9620 - val_loss: 0.0836 - val_accuracy: 0.9752\n",
            "Epoch 2/5\n",
            "42000/42000 [==============================] - 189s 4ms/step - loss: 0.0610 - accuracy: 0.9814 - val_loss: 0.0814 - val_accuracy: 0.9772\n",
            "Epoch 3/5\n",
            "42000/42000 [==============================] - 169s 4ms/step - loss: 0.0451 - accuracy: 0.9868 - val_loss: 0.0764 - val_accuracy: 0.9797\n",
            "Epoch 4/5\n",
            "42000/42000 [==============================] - 166s 4ms/step - loss: 0.0344 - accuracy: 0.9899 - val_loss: 0.0736 - val_accuracy: 0.9813\n",
            "Epoch 5/5\n",
            "42000/42000 [==============================] - 169s 4ms/step - loss: 0.0267 - accuracy: 0.9919 - val_loss: 0.0772 - val_accuracy: 0.9813\n"
          ]
        },
        {
          "output_type": "execute_result",
          "data": {
            "text/plain": [
              "<keras.callbacks.History at 0x7f45e1b81810>"
            ]
          },
          "metadata": {},
          "execution_count": 30
        }
      ]
    },
    {
      "cell_type": "code",
      "source": [
        "model.evaluate(test_images, test_labels, batch_size=1)"
      ],
      "metadata": {
        "colab": {
          "base_uri": "https://localhost:8080/"
        },
        "id": "Hsdq_hTm6fjU",
        "outputId": "e0c2fd22-3783-4773-da85-69533b8917f7"
      },
      "execution_count": null,
      "outputs": [
        {
          "output_type": "stream",
          "name": "stdout",
          "text": [
            "10000/10000 [==============================] - 16s 2ms/step - loss: 0.0658 - accuracy: 0.9832\n"
          ]
        },
        {
          "output_type": "execute_result",
          "data": {
            "text/plain": [
              "[0.0658169537782669, 0.9832000136375427]"
            ]
          },
          "metadata": {},
          "execution_count": 31
        }
      ]
    }
  ],
  "metadata": {
    "colab": {
      "collapsed_sections": [],
      "name": "Handwritten-Digit-Classification-CNN.ipynb",
      "provenance": [],
      "authorship_tag": "ABX9TyPq3WhhTsnMOwx5NmPN/DtD",
      "include_colab_link": true
    },
    "kernelspec": {
      "display_name": "Python 3",
      "name": "python3"
    },
    "language_info": {
      "name": "python"
    }
  },
  "nbformat": 4,
  "nbformat_minor": 0
}